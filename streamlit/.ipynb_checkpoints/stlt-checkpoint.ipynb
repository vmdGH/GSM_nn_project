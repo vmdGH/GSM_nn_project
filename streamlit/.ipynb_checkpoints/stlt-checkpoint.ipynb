{
 "cells": [
  {
   "cell_type": "code",
   "execution_count": 1,
   "id": "4a0e9d72-81eb-46bf-bebc-d8131b4cbae4",
   "metadata": {},
   "outputs": [],
   "source": [
    "import streamlit as st\n",
    "import pandas as pd\n",
    "import base64\n",
    "import matplotlib.pyplot as plt\n",
    "import seaborn as sns\n",
    "import numpy as np\n",
    "import yfinance as yf\n"
   ]
  },
  {
   "cell_type": "code",
   "execution_count": 8,
   "id": "61978a28-c830-47a4-8538-d4c48cb58a1c",
   "metadata": {},
   "outputs": [
    {
     "data": {
      "text/plain": [
       "DeltaGenerator(_root_container=0, _provided_cursor=None, _parent=None, _block_type=None, _form_data=None)"
      ]
     },
     "execution_count": 8,
     "metadata": {},
     "output_type": "execute_result"
    }
   ],
   "source": [
    "\n",
    "st.title('S&P 500 App')\n"
   ]
  },
  {
   "cell_type": "code",
   "execution_count": 9,
   "id": "04e82e84-cda6-48da-9153-bfb50907affb",
   "metadata": {},
   "outputs": [],
   "source": [
    "\n",
    "def main_page():\n",
    "    st.markdown(\"# Main page 🎈\")\n",
    "    st.sidebar.markdown(\"# Main page 🎈\")\n"
   ]
  },
  {
   "cell_type": "code",
   "execution_count": 10,
   "id": "a6bd7d4a-4ae5-4593-9fee-b1ab6acf8b7a",
   "metadata": {},
   "outputs": [],
   "source": [
    "\n",
    "def page2():\n",
    "    st.markdown(\"# ResNet18\")\n",
    "    st.sidebar.markdown(\"# ResNet18\")\n"
   ]
  },
  {
   "cell_type": "code",
   "execution_count": 11,
   "id": "6ab64400-5a35-4754-aef1-a41c4130bddd",
   "metadata": {},
   "outputs": [],
   "source": [
    "\n",
    "def page3():\n",
    "    st.markdown(\"# Inception\")\n",
    "    st.sidebar.markdown(\"# Inception\")\n"
   ]
  },
  {
   "cell_type": "code",
   "execution_count": 12,
   "id": "8dc046e5-5990-4a94-8ed1-4ee317ea0c94",
   "metadata": {},
   "outputs": [],
   "source": [
    "\n",
    "page_names_to_funcs = {\n",
    "    \"Main Page\": main_page,\n",
    "    \"ResNet18\": page2,\n",
    "    \"Inception\": page3,\n",
    "}\n"
   ]
  },
  {
   "cell_type": "code",
   "execution_count": 13,
   "id": "a2d09bd1-7fbf-4fc0-9e3d-f6103ff56602",
   "metadata": {},
   "outputs": [],
   "source": [
    "\n",
    "selected_page = st.sidebar.selectbox(\"Select a page\", page_names_to_funcs.keys())\n",
    "page_names_to_funcs[selected_page]()"
   ]
  },
  {
   "cell_type": "code",
   "execution_count": null,
   "id": "3b7f79b9-d1d7-463f-ae4e-cfaa3b688791",
   "metadata": {},
   "outputs": [],
   "source": [
    "! streamlit run /home/user/eb_db2.0/GSM_nn_project/streamlit/st.py"
   ]
  }
 ],
 "metadata": {
  "kernelspec": {
   "display_name": "Python 3 (ipykernel)",
   "language": "python",
   "name": "python3"
  },
  "language_info": {
   "codemirror_mode": {
    "name": "ipython",
    "version": 3
   },
   "file_extension": ".py",
   "mimetype": "text/x-python",
   "name": "python",
   "nbconvert_exporter": "python",
   "pygments_lexer": "ipython3",
   "version": "3.9.13"
  }
 },
 "nbformat": 4,
 "nbformat_minor": 5
}
